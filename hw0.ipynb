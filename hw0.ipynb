{
 "cells": [
  {
   "cell_type": "code",
   "execution_count": 1,
   "metadata": {
    "collapsed": false
   },
   "outputs": [
    {
     "name": "stdout",
     "output_type": "stream",
     "text": [
      "Item is  10\n",
      "Item is  20\n",
      "Item is  30\n",
      "Item is  40\n",
      "Item is  50\n"
     ]
    }
   ],
   "source": [
    "x = [10, 20, 30, 40, 50]\n",
    "for item in x:\n",
    "    print \"Item is \", item\n",
    "    "
   ]
  },
  {
   "cell_type": "code",
   "execution_count": 2,
   "metadata": {
    "collapsed": false
   },
   "outputs": [
    {
     "name": "stdout",
     "output_type": "stream",
     "text": [
      "IPython version:       5.1.0 (need at least 1.0)\n",
      "Numpy version:        1.11.3 (need at least 1.7.1)\n",
      "SciPy version:        0.18.1 (need at least 0.12.0)\n",
      "Pandas version:       0.19.2 (need at least 0.11.0)\n",
      "Mapltolib version:     2.0.0 (need at least 1.2.1)\n",
      "Scikit-Learn version: 0.18.1 (need at least 0.13.1)\n",
      "requests version:     2.12.4 (need at least 1.2.3)\n",
      "NetworkX version:       1.11 (need at least 1.7)\n",
      "BeautifulSoup version: 4.5.3 (need at least 4.0)\n",
      "Mr Job version:        0.5.8 (need at least 0.4)\n",
      "Pattern version:         2.6 (need at least 2.6)\n",
      "Seaborn version:       0.7.1 (need at least 0.3.1)\n"
     ]
    }
   ],
   "source": [
    "#IPython is what you are using now to run the notebook\n",
    "import IPython\n",
    "print \"IPython version:      %6.6s (need at least 1.0)\" % IPython.__version__\n",
    "\n",
    "# Numpy is a library for working with Arrays\n",
    "import numpy as np\n",
    "print \"Numpy version:        %6.6s (need at least 1.7.1)\" % np.__version__\n",
    "\n",
    "# SciPy implements many different numerical algorithms\n",
    "import scipy as sp\n",
    "print \"SciPy version:        %6.6s (need at least 0.12.0)\" % sp.__version__\n",
    "\n",
    "# Pandas makes working with data tables easier\n",
    "import pandas as pd\n",
    "print \"Pandas version:       %6.6s (need at least 0.11.0)\" % pd.__version__\n",
    "\n",
    "# Module for plotting\n",
    "import matplotlib\n",
    "print \"Mapltolib version:    %6.6s (need at least 1.2.1)\" % matplotlib.__version__\n",
    "\n",
    "# SciKit Learn implements several Machine Learning algorithms\n",
    "import sklearn\n",
    "print \"Scikit-Learn version: %6.6s (need at least 0.13.1)\" % sklearn.__version__\n",
    "\n",
    "# Requests is a library for getting data from the Web\n",
    "import requests\n",
    "print \"requests version:     %6.6s (need at least 1.2.3)\" % requests.__version__\n",
    "\n",
    "# Networkx is a library for working with networks\n",
    "import networkx as nx\n",
    "print \"NetworkX version:     %6.6s (need at least 1.7)\" % nx.__version__\n",
    "\n",
    "#BeautifulSoup is a library to parse HTML and XML documents\n",
    "import bs4\n",
    "print \"BeautifulSoup version:%6.6s (need at least 4.0)\" % bs4.__version__\n",
    "\n",
    "#MrJob is a library to run map reduce jobs on Amazon's computers\n",
    "import mrjob\n",
    "print \"Mr Job version:       %6.6s (need at least 0.4)\" % mrjob.__version__\n",
    "\n",
    "#Pattern has lots of tools for working with data from the internet\n",
    "import pattern\n",
    "print \"Pattern version:      %6.6s (need at least 2.6)\" % pattern.__version__\n",
    "\n",
    "#Seaborn is a nice library for visualizations\n",
    "import seaborn\n",
    "print \"Seaborn version:      %6.6s (need at least 0.3.1)\" % seaborn.__version__"
   ]
  },
  {
   "cell_type": "code",
   "execution_count": 3,
   "metadata": {
    "collapsed": false
   },
   "outputs": [
    {
     "data": {
      "text/plain": [
       "<matplotlib.text.Text at 0x7fdd7f204f90>"
      ]
     },
     "execution_count": 3,
     "metadata": {},
     "output_type": "execute_result"
    },
    {
     "data": {
      "image/png": "[encoded data removed]",
      "text/plain": [
       "<matplotlib.figure.Figure at 0x7fddb006a290>"
      ]
     },
     "metadata": {},
     "output_type": "display_data"
    }
   ],
   "source": [
    "#this line prepares IPython for working with matplotlib\n",
    "%matplotlib inline  \n",
    "\n",
    "# this actually imports matplotlib\n",
    "import matplotlib.pyplot as plt  \n",
    "\n",
    "x = np.linspace(0, 10, 30)  #array of 30 points from 0 to 10\n",
    "y = np.sin(x)\n",
    "z = y + np.random.normal(size=30) * .2\n",
    "plt.plot(x, y, 'ro-', label='A sine wave')\n",
    "plt.plot(x, z, 'b-', label='Noisy sine')\n",
    "plt.legend(loc = 'lower right')\n",
    "plt.xlabel(\"X axis\")\n",
    "plt.ylabel(\"Y axis\")\n",
    "\n"
   ]
  },
  {
   "cell_type": "code",
   "execution_count": 4,
   "metadata": {
    "collapsed": false
   },
   "outputs": [
    {
     "name": "stdout",
     "output_type": "stream",
     "text": [
      "Make a 3 row x 4 column array of random numbers\n",
      "[[ 0.48246702  0.658288    0.18227942  0.08263201]\n",
      " [ 0.80444387  0.9186336   0.86700455  0.51328845]\n",
      " [ 0.12783583  0.18189406  0.39235453  0.00403468]]\n",
      "\n",
      "Add 1 to every element\n",
      "[[ 1.48246702  1.658288    1.18227942  1.08263201]\n",
      " [ 1.80444387  1.9186336   1.86700455  1.51328845]\n",
      " [ 1.12783583  1.18189406  1.39235453  1.00403468]]\n",
      "\n",
      "Get the element at row 1, column 2\n",
      "1.86700455065\n",
      "\n",
      "Get the first row\n",
      "[ 1.48246702  1.658288    1.18227942  1.08263201]\n",
      "\n",
      "Get every 2nd column of the first row\n",
      "[ 1.48246702  1.18227942]\n",
      "\n"
     ]
    }
   ],
   "source": [
    "print \"Make a 3 row x 4 column array of random numbers\"\n",
    "x = np.random.random((3, 4))\n",
    "print x\n",
    "print\n",
    "\n",
    "print \"Add 1 to every element\"\n",
    "x = x + 1\n",
    "print x\n",
    "print\n",
    "\n",
    "print \"Get the element at row 1, column 2\"\n",
    "print x[1, 2]\n",
    "print\n",
    "\n",
    "# The colon syntax is called \"slicing\" the array. \n",
    "print \"Get the first row\"\n",
    "print x[0, :]\n",
    "print\n",
    "\n",
    "print \"Get every 2nd column of the first row\"\n",
    "print x[0, ::2]\n",
    "print"
   ]
  },
  {
   "cell_type": "code",
   "execution_count": 11,
   "metadata": {
    "collapsed": false
   },
   "outputs": [
    {
     "name": "stdout",
     "output_type": "stream",
     "text": [
      "max: 1.91863359524\n",
      "\n",
      "min: 1.0040346809\n",
      "\n",
      "mean: 1.43459633555\n"
     ]
    }
   ],
   "source": [
    "print \"max: \" + str(np.max(x))\n",
    "print\n",
    "print \"min: \" + str(np.min(x))\n",
    "print \n",
    "print \"mean: \" + str(np.mean(x))\n"
   ]
  },
  {
   "cell_type": "code",
   "execution_count": 20,
   "metadata": {
    "collapsed": false
   },
   "outputs": [
    {
     "name": "stdout",
     "output_type": "stream",
     "text": [
      "[ 1.658288    1.9186336   1.39235453]\n",
      "[ 1.80444387  1.9186336   1.86700455  1.51328845]\n",
      "1.91863359524\n"
     ]
    }
   ],
   "source": [
    "#max in each row\n",
    "print (np.amax((x), axis = 1))\n",
    "print (np.amax(x,axis = 0))\n",
    "print (np.amax(x))"
   ]
  },
  {
   "cell_type": "code",
   "execution_count": 21,
   "metadata": {
    "collapsed": false
   },
   "outputs": [
    {
     "name": "stdout",
     "output_type": "stream",
     "text": [
      "number of heads: 254\n"
     ]
    }
   ],
   "source": [
    "x = np.random.binomial(500, .5)\n",
    "print \"number of heads:\", x"
   ]
  },
  {
   "cell_type": "code",
   "execution_count": null,
   "metadata": {
    "collapsed": true
   },
   "outputs": [],
   "source": []
  }
 ],
 "metadata": {
  "kernelspec": {
   "display_name": "Python 2",
   "language": "python",
   "name": "python2"
  },
  "language_info": {
   "codemirror_mode": {
    "name": "ipython",
    "version": 2
   },
   "file_extension": ".py",
   "mimetype": "text/x-python",
   "name": "python",
   "nbconvert_exporter": "python",
   "pygments_lexer": "ipython2",
   "version": "2.7.13"
  }
 },
 "nbformat": 4,
 "nbformat_minor": 2
}
